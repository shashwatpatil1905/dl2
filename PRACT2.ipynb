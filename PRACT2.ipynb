{
 "cells": [
  {
   "cell_type": "code",
   "execution_count": 1,
   "id": "1bb28ce4",
   "metadata": {},
   "outputs": [],
   "source": [
    "import pandas as pd\n",
    "from sklearn.datasets import load_iris\n",
    "from sklearn.model_selection import train_test_split"
   ]
  },
  {
   "cell_type": "code",
   "execution_count": 2,
   "id": "b18b74e2",
   "metadata": {},
   "outputs": [],
   "source": [
    "iris=load_iris()\n",
    "X=iris.data\n",
    "y=iris.target"
   ]
  },
  {
   "cell_type": "code",
   "execution_count": 3,
   "id": "11a5a005",
   "metadata": {},
   "outputs": [],
   "source": [
    "X_train,X_test,y_train,y_test=train_test_split(X,y,test_size=0.2,random_state=42)"
   ]
  },
  {
   "cell_type": "markdown",
   "id": "06993ea1",
   "metadata": {},
   "source": [
    "Model Training"
   ]
  },
  {
   "cell_type": "code",
   "execution_count": 4,
   "id": "16a4ff28",
   "metadata": {},
   "outputs": [
    {
     "name": "stdout",
     "output_type": "stream",
     "text": [
      "Accuracy of v1: 1.0\n"
     ]
    }
   ],
   "source": [
    "from sklearn.ensemble import RandomForestClassifier\n",
    "from sklearn.metrics import accuracy_score\n",
    "\n",
    "model_v1=RandomForestClassifier(n_estimators=100, random_state=42)\n",
    "model_v1.fit(X_train,y_train)\n",
    "\n",
    "y_pred_v1=model_v1.predict(X_test)\n",
    "acc_v1=accuracy_score(y_test,y_pred_v1)\n",
    "print(\"Accuracy of v1:\",acc_v1)"
   ]
  },
  {
   "cell_type": "code",
   "execution_count": 5,
   "id": "f74b77dd",
   "metadata": {},
   "outputs": [
    {
     "data": {
      "text/plain": [
       "['model_v1.pkl']"
      ]
     },
     "execution_count": 5,
     "metadata": {},
     "output_type": "execute_result"
    }
   ],
   "source": [
    "import joblib\n",
    "\n",
    "joblib.dump(model_v1, \"model_v1.pkl\")"
   ]
  },
  {
   "cell_type": "code",
   "execution_count": 12,
   "id": "900948b3",
   "metadata": {},
   "outputs": [
    {
     "name": "stdout",
     "output_type": "stream",
     "text": [
      "Accuracy (v2): 1.0\n"
     ]
    }
   ],
   "source": [
    "# New version with different hyperparameters\n",
    "model_v2 = RandomForestClassifier(n_estimators=200, max_depth=3, random_state=42)\n",
    "model_v2.fit(X_train, y_train)\n",
    "\n",
    "# Evaluate\n",
    "y_pred_v2 = model_v2.predict(X_test)\n",
    "acc_v2 = accuracy_score(y_test, y_pred_v2)\n",
    "print(\"Accuracy (v2):\", acc_v2)\n"
   ]
  },
  {
   "cell_type": "code",
   "execution_count": 13,
   "id": "b605e488",
   "metadata": {},
   "outputs": [
    {
     "name": "stdout",
     "output_type": "stream",
     "text": [
      "  Model Version  Accuracy\n",
      "0      model_v1       1.0\n",
      "1      model_v2       1.0\n"
     ]
    }
   ],
   "source": [
    "results = {\n",
    "    \"model_v1\":acc_v1,\n",
    "    \"model_v2\":acc_v2\n",
    "}\n",
    "\n",
    "results_df=pd.DataFrame(list(results.items()), columns=[\"Model Version\",\"Accuracy\"])\n",
    "print(results_df)\n",
    "results_df.to_csv(\"model_results.csv\",index=False)"
   ]
  },
  {
   "cell_type": "code",
   "execution_count": null,
   "id": "516a3b8d",
   "metadata": {},
   "outputs": [
    {
     "data": {
      "text/plain": [
       "['model_v2.pkl']"
      ]
     },
     "execution_count": 14,
     "metadata": {},
     "output_type": "execute_result"
    }
   ],
   "source": [
    "\n",
    "joblib.dump(model_v2, \"model_v2.pkl\")\n"
   ]
  },
  {
   "cell_type": "code",
   "execution_count": null,
   "id": "6c68170f",
   "metadata": {},
   "outputs": [],
   "source": []
  }
 ],
 "metadata": {
  "kernelspec": {
   "display_name": "base",
   "language": "python",
   "name": "python3"
  },
  "language_info": {
   "codemirror_mode": {
    "name": "ipython",
    "version": 3
   },
   "file_extension": ".py",
   "mimetype": "text/x-python",
   "name": "python",
   "nbconvert_exporter": "python",
   "pygments_lexer": "ipython3",
   "version": "3.11.7"
  }
 },
 "nbformat": 4,
 "nbformat_minor": 5
}
